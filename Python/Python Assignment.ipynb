{
 "cells": [
  {
   "cell_type": "markdown",
   "metadata": {},
   "source": [
    "## Assignments of Statement and Control Loop"
   ]
  },
  {
   "cell_type": "markdown",
   "metadata": {},
   "source": [
    "### 1. \n",
    "Write a Python program to count the number of even and odd numbers from a series of \n",
    "numbers.\n",
    "Sample numbers\n",
    ": numbers =(1,2,3,4,5)\n",
    "- Expected Output:\n",
    "- Number of even numbers : 2\n",
    "- Number of odd numbers : 3"
   ]
  },
  {
   "cell_type": "code",
   "execution_count": 17,
   "metadata": {
    "collapsed": false
   },
   "outputs": [],
   "source": [
    "def countOddEven(listOfNum):\n",
    "    evenCount,oddCount = 0,0\n",
    "    for i in listOfNum:\n",
    "        if(i % 2 == 0):\n",
    "            #evenCount = evenCount+1\n",
    "            evenCount += 1\n",
    "        else:\n",
    "            #oddCount = oddCount +1\n",
    "            oddCount += 1\n",
    "    print \"Even number count= \",evenCount, \"Odd number Count  = \", oddCount\n",
    "    "
   ]
  },
  {
   "cell_type": "code",
   "execution_count": 18,
   "metadata": {
    "collapsed": false
   },
   "outputs": [
    {
     "name": "stdout",
     "output_type": "stream",
     "text": [
      "Even number count=  2 Odd number Count  =  3\n"
     ]
    }
   ],
   "source": [
    "listOfNum = [1,2,3,4,5]\n",
    "\n",
    "countOddEven(listOfNum)"
   ]
  },
  {
   "cell_type": "code",
   "execution_count": 19,
   "metadata": {
    "collapsed": true
   },
   "outputs": [],
   "source": [
    "listOfNum = range(100,1000)"
   ]
  },
  {
   "cell_type": "code",
   "execution_count": 20,
   "metadata": {
    "collapsed": false
   },
   "outputs": [
    {
     "name": "stdout",
     "output_type": "stream",
     "text": [
      "Even number count=  450 Odd number Count  =  450\n"
     ]
    }
   ],
   "source": [
    "countOddEven(listOfNum)\n"
   ]
  },
  {
   "cell_type": "markdown",
   "metadata": {},
   "source": [
    "Write a Python program which iterates the integers from 1 to50. For multiples of three print \"thrice\" instead of the number and for the multiples of five print \"fives\". For numbers which are multiples \n",
    "of both three and five print \"thrice and fives\".\n",
    "Sample Output\n",
    ":\n",
    "1\n",
    "2\n",
    "thrice\n",
    "4\n",
    "fives"
   ]
  },
  {
   "cell_type": "code",
   "execution_count": 24,
   "metadata": {
    "collapsed": false
   },
   "outputs": [],
   "source": [
    "def printthricenfives(listofNum):\n",
    "    for i in range(1,50):\n",
    "        if(i % 3 == 0 and i%5 == 0):\n",
    "            print \"thrice and fives\"\n",
    "        elif(i%5 == 0):\n",
    "            print \"Fifth\"\n",
    "        elif(i%3 == 0):\n",
    "            print \"thrice\"\n",
    "        else :\n",
    "            print i"
   ]
  },
  {
   "cell_type": "code",
   "execution_count": 25,
   "metadata": {
    "collapsed": false
   },
   "outputs": [
    {
     "name": "stdout",
     "output_type": "stream",
     "text": [
      "1\n",
      "2\n",
      "thrice\n",
      "4\n",
      "Fifth\n",
      "thrice\n",
      "7\n",
      "8\n",
      "thrice\n",
      "Fifth\n",
      "11\n",
      "thrice\n",
      "13\n",
      "14\n",
      "thrice and fives\n",
      "16\n",
      "17\n",
      "thrice\n",
      "19\n",
      "Fifth\n",
      "thrice\n",
      "22\n",
      "23\n",
      "thrice\n",
      "Fifth\n",
      "26\n",
      "thrice\n",
      "28\n",
      "29\n",
      "thrice and fives\n",
      "31\n",
      "32\n",
      "thrice\n",
      "34\n",
      "Fifth\n",
      "thrice\n",
      "37\n",
      "38\n",
      "thrice\n",
      "Fifth\n",
      "41\n",
      "thrice\n",
      "43\n",
      "44\n",
      "thrice and fives\n",
      "46\n",
      "47\n",
      "thrice\n",
      "49\n"
     ]
    }
   ],
   "source": [
    "printthricenfives(range(1,100))"
   ]
  },
  {
   "cell_type": "code",
   "execution_count": null,
   "metadata": {
    "collapsed": true
   },
   "outputs": [],
   "source": []
  }
 ],
 "metadata": {
  "anaconda-cloud": {},
  "kernelspec": {
   "display_name": "Python [conda env:Training]",
   "language": "python",
   "name": "conda-env-Training-py"
  },
  "language_info": {
   "codemirror_mode": {
    "name": "ipython",
    "version": 2
   },
   "file_extension": ".py",
   "mimetype": "text/x-python",
   "name": "python",
   "nbconvert_exporter": "python",
   "pygments_lexer": "ipython2",
   "version": "2.7.13"
  }
 },
 "nbformat": 4,
 "nbformat_minor": 1
}
